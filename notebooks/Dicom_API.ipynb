{
 "cells": [
  {
   "cell_type": "markdown",
   "id": "b9f92452-b2df-4fa2-b014-bd95e51ae571",
   "metadata": {
    "tags": []
   },
   "source": [
    "# Extracting data from DICOM files\n",
    "### This notebook extract data from Dicom files using the dicomTags."
   ]
  },
  {
   "cell_type": "markdown",
   "id": "2c857a38-eabe-497a-904e-39ad862dad9c",
   "metadata": {},
   "source": [
    "#### Installing required packages:\n",
    "\n",
    "1. Create a new environment (https://docs.python.org/3/library/venv.html)\n",
    "\n",
    "```python\n",
    "python3 -m venv /path/to/new/virtual/environment\n",
    "```\n",
    "2. Activate the new environment\n",
    "\n",
    "```python\n",
    "source env/bin/activate\n",
    "```\n",
    "\n",
    "3. Install required packages\n",
    "\n",
    "```python\n",
    "pip install -r requirements.txt\n",
    "```\n",
    "\n",
    "4. Run the notebook.  :)"
   ]
  },
  {
   "cell_type": "code",
   "execution_count": 1,
   "id": "09335bfd-7719-4c49-ac02-ad28ad21f374",
   "metadata": {},
   "outputs": [],
   "source": [
    "\n",
    "import numpy as np\n",
    "from pydicom import dcmread\n",
    "import re\n",
    "import wget\n",
    "import zipfile\n",
    "import os\n",
    "import glob\n",
    "from tqdm.notebook import tqdm\n",
    "import csv"
   ]
  },
  {
   "cell_type": "markdown",
   "id": "2409bef7-55d0-452b-a562-8903ec428e9b",
   "metadata": {},
   "source": [
    "Download data with diferent dicom serie examples (~4.1Go) and unzip it  \n",
    "Dicom_files: all dicom files"
   ]
  },
  {
   "cell_type": "code",
   "execution_count": 14,
   "id": "085dd51a-7840-4329-a47a-2e5bdc7220f3",
   "metadata": {},
   "outputs": [],
   "source": [
    "if not os.path.isfile(\"exampleOsirisImage.zip\"):\n",
    "    dicomArchive = wget.download(\"https://www.creatis.insa-lyon.fr/~baudier/exampleOsirisImage.zip\")\n",
    "    with zipfile.ZipFile(dicomArchive, 'r') as zip_ref:\n",
    "        zip_ref.extractall(\".\")\n",
    "\n",
    "DICOM_files = glob.glob('exampleOsirisImage/**/*.[dD][cC][mM]', recursive=True)\n"
   ]
  },
  {
   "cell_type": "markdown",
   "id": "161dd8b0",
   "metadata": {},
   "source": [
    "Print some dicom file paths"
   ]
  },
  {
   "cell_type": "code",
   "execution_count": 3,
   "id": "8ae59cfa-f60b-43e0-a62d-d8d1c0dab5a9",
   "metadata": {},
   "outputs": [
    {
     "name": "stdout",
     "output_type": "stream",
     "text": [
      "['exampleOsirisImage/HP/RTDOSE/(0008,1030)_LO_(no_value)_________________________________________#_0,1_Study_Description/20210621/084522/2_/Phase_#1_Dosi_DKC_DKC_(Soft_Tissues):_PT_-_5384_-_6654_(GY)_/1.3.6.1.4.1.33868.20210621084522.826595.dcm', 'exampleOsirisImage/HP/RTDOSE/(0008,1030)_LO_(no_value)_________________________________________#_0,1_Study_Description/20210621/084457/4.41806_/Phase_#1_Dosi_DKC_DKC_(Soft_Tissues):_NM_-_SHUNT_PULMONAIRE_-_3_/1.3.6.1.4.1.33868.20210621084457.432480.dcm', 'exampleOsirisImage/HP/CT/SHUNT_PULMONAIRE/20210415/160250/1.250000/CT_THERA_1.25mm_/1.2.840.113619.2.55.3.2831157704.29.1618467837.736.70.dcm', 'exampleOsirisImage/HP/CT/SHUNT_PULMONAIRE/20210415/160250/1.250000/CT_THERA_1.25mm_/1.2.840.113619.2.55.3.2831157704.29.1618467837.736.228.dcm', 'exampleOsirisImage/HP/CT/SHUNT_PULMONAIRE/20210415/160250/1.250000/CT_THERA_1.25mm_/1.2.840.113619.2.55.3.2831157704.29.1618467837.736.64.dcm', 'exampleOsirisImage/HP/CT/SHUNT_PULMONAIRE/20210415/160250/1.250000/CT_THERA_1.25mm_/1.2.840.113619.2.55.3.2831157704.29.1618467837.736.200.dcm', 'exampleOsirisImage/HP/CT/SHUNT_PULMONAIRE/20210415/160250/1.250000/CT_THERA_1.25mm_/1.2.840.113619.2.55.3.2831157704.29.1618467837.736.58.dcm', 'exampleOsirisImage/HP/CT/SHUNT_PULMONAIRE/20210415/160250/1.250000/CT_THERA_1.25mm_/1.2.840.113619.2.55.3.2831157704.29.1618467837.736.214.dcm', 'exampleOsirisImage/HP/CT/SHUNT_PULMONAIRE/20210415/160250/1.250000/CT_THERA_1.25mm_/1.2.840.113619.2.55.3.2831157704.29.1618467837.736.176.dcm', 'exampleOsirisImage/HP/CT/SHUNT_PULMONAIRE/20210415/160250/1.250000/CT_THERA_1.25mm_/1.2.840.113619.2.55.3.2831157704.29.1618467837.736.162.dcm', 'exampleOsirisImage/HP/CT/SHUNT_PULMONAIRE/20210415/160250/1.250000/CT_THERA_1.25mm_/1.2.840.113619.2.55.3.2831157704.29.1618467837.736.189.dcm', 'exampleOsirisImage/HP/CT/SHUNT_PULMONAIRE/20210415/160250/1.250000/CT_THERA_1.25mm_/1.2.840.113619.2.55.3.2831157704.29.1618467837.736.188.dcm', 'exampleOsirisImage/HP/CT/SHUNT_PULMONAIRE/20210415/160250/1.250000/CT_THERA_1.25mm_/1.2.840.113619.2.55.3.2831157704.29.1618467837.736.163.dcm', 'exampleOsirisImage/HP/CT/SHUNT_PULMONAIRE/20210415/160250/1.250000/CT_THERA_1.25mm_/1.2.840.113619.2.55.3.2831157704.29.1618467837.736.177.dcm', 'exampleOsirisImage/HP/CT/SHUNT_PULMONAIRE/20210415/160250/1.250000/CT_THERA_1.25mm_/1.2.840.113619.2.55.3.2831157704.29.1618467837.736.215.dcm', 'exampleOsirisImage/HP/CT/SHUNT_PULMONAIRE/20210415/160250/1.250000/CT_THERA_1.25mm_/1.2.840.113619.2.55.3.2831157704.29.1618467837.736.59.dcm', 'exampleOsirisImage/HP/CT/SHUNT_PULMONAIRE/20210415/160250/1.250000/CT_THERA_1.25mm_/1.2.840.113619.2.55.3.2831157704.29.1618467837.736.201.dcm', 'exampleOsirisImage/HP/CT/SHUNT_PULMONAIRE/20210415/160250/1.250000/CT_THERA_1.25mm_/1.2.840.113619.2.55.3.2831157704.29.1618467837.736.65.dcm', 'exampleOsirisImage/HP/CT/SHUNT_PULMONAIRE/20210415/160250/1.250000/CT_THERA_1.25mm_/1.2.840.113619.2.55.3.2831157704.29.1618467837.736.229.dcm', 'exampleOsirisImage/HP/CT/SHUNT_PULMONAIRE/20210415/160250/1.250000/CT_THERA_1.25mm_/1.2.840.113619.2.55.3.2831157704.29.1618467837.736.71.dcm', 'exampleOsirisImage/HP/CT/SHUNT_PULMONAIRE/20210415/160250/1.250000/CT_THERA_1.25mm_/1.2.840.113619.2.55.3.2831157704.29.1618467837.736.67.dcm', 'exampleOsirisImage/HP/CT/SHUNT_PULMONAIRE/20210415/160250/1.250000/CT_THERA_1.25mm_/1.2.840.113619.2.55.3.2831157704.29.1618467837.736.73.dcm', 'exampleOsirisImage/HP/CT/SHUNT_PULMONAIRE/20210415/160250/1.250000/CT_THERA_1.25mm_/1.2.840.113619.2.55.3.2831157704.29.1618467837.736.217.dcm', 'exampleOsirisImage/HP/CT/SHUNT_PULMONAIRE/20210415/160250/1.250000/CT_THERA_1.25mm_/1.2.840.113619.2.55.3.2831157704.29.1618467837.736.203.dcm', 'exampleOsirisImage/HP/CT/SHUNT_PULMONAIRE/20210415/160250/1.250000/CT_THERA_1.25mm_/1.2.840.113619.2.55.3.2831157704.29.1618467837.736.98.dcm', 'exampleOsirisImage/HP/CT/SHUNT_PULMONAIRE/20210415/160250/1.250000/CT_THERA_1.25mm_/1.2.840.113619.2.55.3.2831157704.29.1618467837.736.149.dcm', 'exampleOsirisImage/HP/CT/SHUNT_PULMONAIRE/20210415/160250/1.250000/CT_THERA_1.25mm_/1.2.840.113619.2.55.3.2831157704.29.1618467837.736.161.dcm', 'exampleOsirisImage/HP/CT/SHUNT_PULMONAIRE/20210415/160250/1.250000/CT_THERA_1.25mm_/1.2.840.113619.2.55.3.2831157704.29.1618467837.736.175.dcm', 'exampleOsirisImage/HP/CT/SHUNT_PULMONAIRE/20210415/160250/1.250000/CT_THERA_1.25mm_/1.2.840.113619.2.55.3.2831157704.29.1618467837.736.174.dcm', 'exampleOsirisImage/HP/CT/SHUNT_PULMONAIRE/20210415/160250/1.250000/CT_THERA_1.25mm_/1.2.840.113619.2.55.3.2831157704.29.1618467837.736.160.dcm', 'exampleOsirisImage/HP/CT/SHUNT_PULMONAIRE/20210415/160250/1.250000/CT_THERA_1.25mm_/1.2.840.113619.2.55.3.2831157704.29.1618467837.736.148.dcm', 'exampleOsirisImage/HP/CT/SHUNT_PULMONAIRE/20210415/160250/1.250000/CT_THERA_1.25mm_/1.2.840.113619.2.55.3.2831157704.29.1618467837.736.99.dcm', 'exampleOsirisImage/HP/CT/SHUNT_PULMONAIRE/20210415/160250/1.250000/CT_THERA_1.25mm_/1.2.840.113619.2.55.3.2831157704.29.1618467837.736.202.dcm', 'exampleOsirisImage/HP/CT/SHUNT_PULMONAIRE/20210415/160250/1.250000/CT_THERA_1.25mm_/1.2.840.113619.2.55.3.2831157704.29.1618467837.736.216.dcm', 'exampleOsirisImage/HP/CT/SHUNT_PULMONAIRE/20210415/160250/1.250000/CT_THERA_1.25mm_/1.2.840.113619.2.55.3.2831157704.29.1618467837.736.72.dcm', 'exampleOsirisImage/HP/CT/SHUNT_PULMONAIRE/20210415/160250/1.250000/CT_THERA_1.25mm_/1.2.840.113619.2.55.3.2831157704.29.1618467837.736.66.dcm', 'exampleOsirisImage/HP/CT/SHUNT_PULMONAIRE/20210415/160250/1.250000/CT_THERA_1.25mm_/1.2.840.113619.2.55.3.2831157704.29.1618467837.736.9.dcm', 'exampleOsirisImage/HP/CT/SHUNT_PULMONAIRE/20210415/160250/1.250000/CT_THERA_1.25mm_/1.2.840.113619.2.55.3.2831157704.29.1618467837.736.212.dcm', 'exampleOsirisImage/HP/CT/SHUNT_PULMONAIRE/20210415/160250/1.250000/CT_THERA_1.25mm_/1.2.840.113619.2.55.3.2831157704.29.1618467837.736.206.dcm', 'exampleOsirisImage/HP/CT/SHUNT_PULMONAIRE/20210415/160250/1.250000/CT_THERA_1.25mm_/1.2.840.113619.2.55.3.2831157704.29.1618467837.736.62.dcm', 'exampleOsirisImage/HP/CT/SHUNT_PULMONAIRE/20210415/160250/1.250000/CT_THERA_1.25mm_/1.2.840.113619.2.55.3.2831157704.29.1618467837.736.76.dcm', 'exampleOsirisImage/HP/CT/SHUNT_PULMONAIRE/20210415/160250/1.250000/CT_THERA_1.25mm_/1.2.840.113619.2.55.3.2831157704.29.1618467837.736.89.dcm', 'exampleOsirisImage/HP/CT/SHUNT_PULMONAIRE/20210415/160250/1.250000/CT_THERA_1.25mm_/1.2.840.113619.2.55.3.2831157704.29.1618467837.736.164.dcm', 'exampleOsirisImage/HP/CT/SHUNT_PULMONAIRE/20210415/160250/1.250000/CT_THERA_1.25mm_/1.2.840.113619.2.55.3.2831157704.29.1618467837.736.170.dcm', 'exampleOsirisImage/HP/CT/SHUNT_PULMONAIRE/20210415/160250/1.250000/CT_THERA_1.25mm_/1.2.840.113619.2.55.3.2831157704.29.1618467837.736.158.dcm', 'exampleOsirisImage/HP/CT/SHUNT_PULMONAIRE/20210415/160250/1.250000/CT_THERA_1.25mm_/1.2.840.113619.2.55.3.2831157704.29.1618467837.736.159.dcm', 'exampleOsirisImage/HP/CT/SHUNT_PULMONAIRE/20210415/160250/1.250000/CT_THERA_1.25mm_/1.2.840.113619.2.55.3.2831157704.29.1618467837.736.171.dcm', 'exampleOsirisImage/HP/CT/SHUNT_PULMONAIRE/20210415/160250/1.250000/CT_THERA_1.25mm_/1.2.840.113619.2.55.3.2831157704.29.1618467837.736.165.dcm', 'exampleOsirisImage/HP/CT/SHUNT_PULMONAIRE/20210415/160250/1.250000/CT_THERA_1.25mm_/1.2.840.113619.2.55.3.2831157704.29.1618467837.736.88.dcm', 'exampleOsirisImage/HP/CT/SHUNT_PULMONAIRE/20210415/160250/1.250000/CT_THERA_1.25mm_/1.2.840.113619.2.55.3.2831157704.29.1618467837.736.77.dcm', 'exampleOsirisImage/HP/CT/SHUNT_PULMONAIRE/20210415/160250/1.250000/CT_THERA_1.25mm_/1.2.840.113619.2.55.3.2831157704.29.1618467837.736.63.dcm', 'exampleOsirisImage/HP/CT/SHUNT_PULMONAIRE/20210415/160250/1.250000/CT_THERA_1.25mm_/1.2.840.113619.2.55.3.2831157704.29.1618467837.736.207.dcm', 'exampleOsirisImage/HP/CT/SHUNT_PULMONAIRE/20210415/160250/1.250000/CT_THERA_1.25mm_/1.2.840.113619.2.55.3.2831157704.29.1618467837.736.213.dcm', 'exampleOsirisImage/HP/CT/SHUNT_PULMONAIRE/20210415/160250/1.250000/CT_THERA_1.25mm_/1.2.840.113619.2.55.3.2831157704.29.1618467837.736.8.dcm', 'exampleOsirisImage/HP/CT/SHUNT_PULMONAIRE/20210415/160250/1.250000/CT_THERA_1.25mm_/1.2.840.113619.2.55.3.2831157704.29.1618467837.736.205.dcm', 'exampleOsirisImage/HP/CT/SHUNT_PULMONAIRE/20210415/160250/1.250000/CT_THERA_1.25mm_/1.2.840.113619.2.55.3.2831157704.29.1618467837.736.49.dcm', 'exampleOsirisImage/HP/CT/SHUNT_PULMONAIRE/20210415/160250/1.250000/CT_THERA_1.25mm_/1.2.840.113619.2.55.3.2831157704.29.1618467837.736.211.dcm', 'exampleOsirisImage/HP/CT/SHUNT_PULMONAIRE/20210415/160250/1.250000/CT_THERA_1.25mm_/1.2.840.113619.2.55.3.2831157704.29.1618467837.736.75.dcm', 'exampleOsirisImage/HP/CT/SHUNT_PULMONAIRE/20210415/160250/1.250000/CT_THERA_1.25mm_/1.2.840.113619.2.55.3.2831157704.29.1618467837.736.239.dcm', 'exampleOsirisImage/HP/CT/SHUNT_PULMONAIRE/20210415/160250/1.250000/CT_THERA_1.25mm_/1.2.840.113619.2.55.3.2831157704.29.1618467837.736.61.dcm', 'exampleOsirisImage/HP/CT/SHUNT_PULMONAIRE/20210415/160250/1.250000/CT_THERA_1.25mm_/1.2.840.113619.2.55.3.2831157704.29.1618467837.736.173.dcm', 'exampleOsirisImage/HP/CT/SHUNT_PULMONAIRE/20210415/160250/1.250000/CT_THERA_1.25mm_/1.2.840.113619.2.55.3.2831157704.29.1618467837.736.167.dcm', 'exampleOsirisImage/HP/CT/SHUNT_PULMONAIRE/20210415/160250/1.250000/CT_THERA_1.25mm_/1.2.840.113619.2.55.3.2831157704.29.1618467837.736.198.dcm', 'exampleOsirisImage/HP/CT/SHUNT_PULMONAIRE/20210415/160250/1.250000/CT_THERA_1.25mm_/1.2.840.113619.2.55.3.2831157704.29.1618467837.736.199.dcm', 'exampleOsirisImage/HP/CT/SHUNT_PULMONAIRE/20210415/160250/1.250000/CT_THERA_1.25mm_/1.2.840.113619.2.55.3.2831157704.29.1618467837.736.166.dcm', 'exampleOsirisImage/HP/CT/SHUNT_PULMONAIRE/20210415/160250/1.250000/CT_THERA_1.25mm_/1.2.840.113619.2.55.3.2831157704.29.1618467837.736.172.dcm', 'exampleOsirisImage/HP/CT/SHUNT_PULMONAIRE/20210415/160250/1.250000/CT_THERA_1.25mm_/1.2.840.113619.2.55.3.2831157704.29.1618467837.736.60.dcm', 'exampleOsirisImage/HP/CT/SHUNT_PULMONAIRE/20210415/160250/1.250000/CT_THERA_1.25mm_/1.2.840.113619.2.55.3.2831157704.29.1618467837.736.238.dcm', 'exampleOsirisImage/HP/CT/SHUNT_PULMONAIRE/20210415/160250/1.250000/CT_THERA_1.25mm_/1.2.840.113619.2.55.3.2831157704.29.1618467837.736.74.dcm', 'exampleOsirisImage/HP/CT/SHUNT_PULMONAIRE/20210415/160250/1.250000/CT_THERA_1.25mm_/1.2.840.113619.2.55.3.2831157704.29.1618467837.736.210.dcm', 'exampleOsirisImage/HP/CT/SHUNT_PULMONAIRE/20210415/160250/1.250000/CT_THERA_1.25mm_/1.2.840.113619.2.55.3.2831157704.29.1618467837.736.48.dcm', 'exampleOsirisImage/HP/CT/SHUNT_PULMONAIRE/20210415/160250/1.250000/CT_THERA_1.25mm_/1.2.840.113619.2.55.3.2831157704.29.1618467837.736.204.dcm', 'exampleOsirisImage/HP/CT/SHUNT_PULMONAIRE/20210415/160250/1.250000/CT_THERA_1.25mm_/1.2.840.113619.2.55.3.2831157704.29.1618467837.736.13.dcm', 'exampleOsirisImage/HP/CT/SHUNT_PULMONAIRE/20210415/160250/1.250000/CT_THERA_1.25mm_/1.2.840.113619.2.55.3.2831157704.29.1618467837.736.263.dcm', 'exampleOsirisImage/HP/CT/SHUNT_PULMONAIRE/20210415/160250/1.250000/CT_THERA_1.25mm_/1.2.840.113619.2.55.3.2831157704.29.1618467837.736.277.dcm', 'exampleOsirisImage/HP/CT/SHUNT_PULMONAIRE/20210415/160250/1.250000/CT_THERA_1.25mm_/1.2.840.113619.2.55.3.2831157704.29.1618467837.736.288.dcm', 'exampleOsirisImage/HP/CT/SHUNT_PULMONAIRE/20210415/160250/1.250000/CT_THERA_1.25mm_/1.2.840.113619.2.55.3.2831157704.29.1618467837.736.317.dcm', 'exampleOsirisImage/HP/CT/SHUNT_PULMONAIRE/20210415/160250/1.250000/CT_THERA_1.25mm_/1.2.840.113619.2.55.3.2831157704.29.1618467837.736.303.dcm', 'exampleOsirisImage/HP/CT/SHUNT_PULMONAIRE/20210415/160250/1.250000/CT_THERA_1.25mm_/1.2.840.113619.2.55.3.2831157704.29.1618467837.736.129.dcm', 'exampleOsirisImage/HP/CT/SHUNT_PULMONAIRE/20210415/160250/1.250000/CT_THERA_1.25mm_/1.2.840.113619.2.55.3.2831157704.29.1618467837.736.115.dcm', 'exampleOsirisImage/HP/CT/SHUNT_PULMONAIRE/20210415/160250/1.250000/CT_THERA_1.25mm_/1.2.840.113619.2.55.3.2831157704.29.1618467837.736.101.dcm', 'exampleOsirisImage/HP/CT/SHUNT_PULMONAIRE/20210415/160250/1.250000/CT_THERA_1.25mm_/1.2.840.113619.2.55.3.2831157704.29.1618467837.736.100.dcm', 'exampleOsirisImage/HP/CT/SHUNT_PULMONAIRE/20210415/160250/1.250000/CT_THERA_1.25mm_/1.2.840.113619.2.55.3.2831157704.29.1618467837.736.114.dcm', 'exampleOsirisImage/HP/CT/SHUNT_PULMONAIRE/20210415/160250/1.250000/CT_THERA_1.25mm_/1.2.840.113619.2.55.3.2831157704.29.1618467837.736.128.dcm', 'exampleOsirisImage/HP/CT/SHUNT_PULMONAIRE/20210415/160250/1.250000/CT_THERA_1.25mm_/1.2.840.113619.2.55.3.2831157704.29.1618467837.736.302.dcm', 'exampleOsirisImage/HP/CT/SHUNT_PULMONAIRE/20210415/160250/1.250000/CT_THERA_1.25mm_/1.2.840.113619.2.55.3.2831157704.29.1618467837.736.316.dcm', 'exampleOsirisImage/HP/CT/SHUNT_PULMONAIRE/20210415/160250/1.250000/CT_THERA_1.25mm_/1.2.840.113619.2.55.3.2831157704.29.1618467837.736.289.dcm', 'exampleOsirisImage/HP/CT/SHUNT_PULMONAIRE/20210415/160250/1.250000/CT_THERA_1.25mm_/1.2.840.113619.2.55.3.2831157704.29.1618467837.736.276.dcm', 'exampleOsirisImage/HP/CT/SHUNT_PULMONAIRE/20210415/160250/1.250000/CT_THERA_1.25mm_/1.2.840.113619.2.55.3.2831157704.29.1618467837.736.262.dcm', 'exampleOsirisImage/HP/CT/SHUNT_PULMONAIRE/20210415/160250/1.250000/CT_THERA_1.25mm_/1.2.840.113619.2.55.3.2831157704.29.1618467837.736.12.dcm', 'exampleOsirisImage/HP/CT/SHUNT_PULMONAIRE/20210415/160250/1.250000/CT_THERA_1.25mm_/1.2.840.113619.2.55.3.2831157704.29.1618467837.736.248.dcm', 'exampleOsirisImage/HP/CT/SHUNT_PULMONAIRE/20210415/160250/1.250000/CT_THERA_1.25mm_/1.2.840.113619.2.55.3.2831157704.29.1618467837.736.10.dcm', 'exampleOsirisImage/HP/CT/SHUNT_PULMONAIRE/20210415/160250/1.250000/CT_THERA_1.25mm_/1.2.840.113619.2.55.3.2831157704.29.1618467837.736.274.dcm', 'exampleOsirisImage/HP/CT/SHUNT_PULMONAIRE/20210415/160250/1.250000/CT_THERA_1.25mm_/1.2.840.113619.2.55.3.2831157704.29.1618467837.736.38.dcm', 'exampleOsirisImage/HP/CT/SHUNT_PULMONAIRE/20210415/160250/1.250000/CT_THERA_1.25mm_/1.2.840.113619.2.55.3.2831157704.29.1618467837.736.260.dcm', 'exampleOsirisImage/HP/CT/SHUNT_PULMONAIRE/20210415/160250/1.250000/CT_THERA_1.25mm_/1.2.840.113619.2.55.3.2831157704.29.1618467837.736.300.dcm', 'exampleOsirisImage/HP/CT/SHUNT_PULMONAIRE/20210415/160250/1.250000/CT_THERA_1.25mm_/1.2.840.113619.2.55.3.2831157704.29.1618467837.736.314.dcm', 'exampleOsirisImage/HP/CT/SHUNT_PULMONAIRE/20210415/160250/1.250000/CT_THERA_1.25mm_/1.2.840.113619.2.55.3.2831157704.29.1618467837.736.102.dcm', 'exampleOsirisImage/HP/CT/SHUNT_PULMONAIRE/20210415/160250/1.250000/CT_THERA_1.25mm_/1.2.840.113619.2.55.3.2831157704.29.1618467837.736.116.dcm', 'exampleOsirisImage/HP/CT/SHUNT_PULMONAIRE/20210415/160250/1.250000/CT_THERA_1.25mm_/1.2.840.113619.2.55.3.2831157704.29.1618467837.736.117.dcm']\n"
     ]
    }
   ],
   "source": [
    "print(DICOM_files[:100])"
   ]
  },
  {
   "cell_type": "markdown",
   "id": "926bd5b8-176f-49d4-9d1e-b26e48af42f3",
   "metadata": {},
   "source": [
    "### Create the dictionary dictTag containing the dicom name and dicom tag from the Excel  \n",
    "Start to write the output csv"
   ]
  },
  {
   "cell_type": "code",
   "execution_count": 18,
   "id": "e6647ccc",
   "metadata": {},
   "outputs": [
    {
     "name": "stdout",
     "output_type": "stream",
     "text": [
      "['Patient_Id', 'Study_Study_Instance_UID', 'Study_Study_Description', 'Study_acquisition-date_time', 'Study_Institution_Name', 'Study_Modalities_in_Study', 'Study_Number_of_Study_Related_Series', 'Series_Series_Number', 'Series_Series_Instance_UID', 'Series_Modality', 'Series_Description', 'Series_Body_Part_Examined', 'Series_Number_of_Series_Related_Instances', 'Series_Software_Version', 'Common_Image_SOP_Instance_UID', 'Common_Image_Slice_thickness', 'Common_Image_Pixel_spacing', 'Common_Image_Rows', 'Common_Image_Columns', 'Instance_Id', 'Study_location', 'Common_Image_Field_of_View']\n"
     ]
    }
   ],
   "source": [
    "dictTags = {\"Patient_Id\": [('0x0010', '0x0020')],\n",
    "           \"Study_Study_Instance_UID\": [('0x0020', '0x000d')],\n",
    "           \"Study_Study_Description\": [('0x0008', '0x1030')],\n",
    "           \"Study_acquisition-date_time\": [('0x0008', '0x0022'), ('0x0008', '0x0032')],\n",
    "           \"Study_Institution_Name\": [('0x0008', '0x0080')],\n",
    "           \"Study_Modalities_in_Study\": [('0x0008', '0x0061')],\n",
    "           \"Study_Number_of_Study_Related_Series\": [('0x0020', '0x1206')],\n",
    "           \"Series_Series_Number\": [('0x0020', '0x0011')],\n",
    "           \"Series_Series_Instance_UID\": [('0x0020', '0x000e')],\n",
    "           \"Series_Modality\": [('0x0008', '0x0060')],\n",
    "           \"Series_Description\": [('0x0008', '0x103e')],\n",
    "           \"Series_Body_Part_Examined\": [('0x0018', '0x0015')],\n",
    "           \"Series_Number_of_Series_Related_Instances\": [('0x0020', '0x1209')],\n",
    "           \"Series_Software_Version\": [('0x0018', '0x1020')],\n",
    "           \"Common_Image_SOP_Instance_UID\": [('0x0008', '0x0018')],\n",
    "           \"Common_Image_Slice_thickness\": [('0x0018', '0x0050')],\n",
    "           \"Common_Image_Pixel_spacing\":  [('0x0028', '0x0030')],\n",
    "           \"Common_Image_Rows\":  [('0x0028', '0x0010')],\n",
    "           \"Common_Image_Columns\": [('0x0028', '0x0011')],\n",
    "          }\n",
    "\n",
    "columns = list(dictTags.keys()) + [\"Instance_Id\", \"Study_location\", \"Common_Image_Field_of_View\"]\n",
    "print(columns)\n",
    "with open('pivot.csv', 'w', newline='') as csvfile:\n",
    "    writer = csv.DictWriter(csvfile, fieldnames=columns)\n",
    "    writer.writeheader()\n"
   ]
  },
  {
   "cell_type": "markdown",
   "id": "fe112787",
   "metadata": {},
   "source": [
    "Look for all previous tags in all dicom files and write it to the csv pivot-like file called \"pivot.csv\""
   ]
  },
  {
   "cell_type": "code",
   "execution_count": 19,
   "id": "395c5919-c8c8-430c-9bf0-b2128437e607",
   "metadata": {},
   "outputs": [
    {
     "data": {
      "application/vnd.jupyter.widget-view+json": {
       "model_id": "3dfaca506d534cacaee463e8a7e601ab",
       "version_major": 2,
       "version_minor": 0
      },
      "text/plain": [
       "  0%|          | 0/18546 [00:00<?, ?it/s]"
      ]
     },
     "metadata": {},
     "output_type": "display_data"
    }
   ],
   "source": [
    "# searching for the tags in the dicom file and building the dataframe\n",
    "indexFile = 0\n",
    "for dicom in tqdm(DICOM_files):\n",
    "    DICOM_file = dcmread(dicom)\n",
    "    dictFile = {}\n",
    "    for key in dictTags:\n",
    "        value = \"\"\n",
    "        for tag in dictTags[key]:\n",
    "            try:\n",
    "                value += \" \" + DICOM_file[tag[0], tag[1]].value\n",
    "            except:\n",
    "                pass\n",
    "        dictFile[key] = value\n",
    "    \n",
    "    if dictFile is not {}:\n",
    "        dictFile[\"Instance_Id\"] = indexFile\n",
    "        dictFile[\"Study_location\"] = dicom\n",
    "        dictFile[\"Common_Image_Field_of_View\"] = \"\"\n",
    "        indexFile += 1\n",
    "        with open('pivot.csv', 'a', newline='') as csvfile:\n",
    "            writer = csv.DictWriter(csvfile, fieldnames=columns)\n",
    "            writer.writerow(dictFile)\n",
    "\n"
   ]
  }
 ],
 "metadata": {
  "kernelspec": {
   "display_name": "Python 3 (ipykernel)",
   "language": "python",
   "name": "python3"
  },
  "language_info": {
   "codemirror_mode": {
    "name": "ipython",
    "version": 3
   },
   "file_extension": ".py",
   "mimetype": "text/x-python",
   "name": "python",
   "nbconvert_exporter": "python",
   "pygments_lexer": "ipython3",
   "version": "3.9.5"
  }
 },
 "nbformat": 4,
 "nbformat_minor": 5
}
