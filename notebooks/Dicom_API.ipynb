{
 "cells": [
  {
   "cell_type": "markdown",
   "id": "b9f92452-b2df-4fa2-b014-bd95e51ae571",
   "metadata": {
    "tags": []
   },
   "source": [
    "# Extracting data from DICOM files\n",
    "### This notebook extract data from Dicom files using the dicomTags."
   ]
  },
  {
   "cell_type": "markdown",
   "id": "2c857a38-eabe-497a-904e-39ad862dad9c",
   "metadata": {},
   "source": [
    "#### Installing required packages:\n",
    "\n",
    "1. Create a new environment (https://docs.python.org/3/library/venv.html)\n",
    "\n",
    "```python\n",
    "python3 -m venv /path/to/new/virtual/environment\n",
    "```\n",
    "2. Activate the new environment\n",
    "\n",
    "```python\n",
    "source env/bin/activate\n",
    "```\n",
    "\n",
    "3. Install required packages\n",
    "\n",
    "```python\n",
    "pip install -r requirements.txt\n",
    "```\n",
    "\n",
    "4. Run the notebook.  :)"
   ]
  },
  {
   "cell_type": "code",
   "execution_count": 1,
   "id": "09335bfd-7719-4c49-ac02-ad28ad21f374",
   "metadata": {},
   "outputs": [],
   "source": [
    "from pydicom import dcmread\n",
    "import os\n",
    "import glob\n",
    "from tqdm.notebook import tqdm\n",
    "import csv"
   ]
  },
  {
   "cell_type": "markdown",
   "id": "2409bef7-55d0-452b-a562-8903ec428e9b",
   "metadata": {},
   "source": [
    "## Find data\n",
    "Download data from https://wiki.cancerimagingarchive.net/display/Public/Soft-tissue-Sarcoma (~10GB)  \n",
    "and look if they are present in folder \"data\""
   ]
  },
  {
   "cell_type": "code",
   "execution_count": 2,
   "id": "085dd51a-7840-4329-a47a-2e5bdc7220f3",
   "metadata": {},
   "outputs": [],
   "source": [
    "if not os.path.isdir(\"Soft-tissue-Sarcoma\"):\n",
    "    print(\"Downlad data before\")\n",
    "\n",
    "DICOM_files = glob.glob('Soft-tissue-Sarcoma/**/*.[dD][cC][mM]', recursive=True)\n"
   ]
  },
  {
   "cell_type": "markdown",
   "id": "161dd8b0",
   "metadata": {},
   "source": [
    "## Print some dicom file paths"
   ]
  },
  {
   "cell_type": "code",
   "execution_count": 3,
   "id": "8ae59cfa-f60b-43e0-a62d-d8d1c0dab5a9",
   "metadata": {},
   "outputs": [
    {
     "name": "stdout",
     "output_type": "stream",
     "text": [
      "['Soft-tissue-Sarcoma/STS_010/12-30-2003-NA-CT PET with registered MR-74609/48044.000000-AlignedT1toPETBOX-18519/1-81.dcm', 'Soft-tissue-Sarcoma/STS_010/12-30-2003-NA-CT PET with registered MR-74609/48044.000000-AlignedT1toPETBOX-18519/1-42.dcm', 'Soft-tissue-Sarcoma/STS_010/12-30-2003-NA-CT PET with registered MR-74609/48044.000000-AlignedT1toPETBOX-18519/1-56.dcm', 'Soft-tissue-Sarcoma/STS_010/12-30-2003-NA-CT PET with registered MR-74609/48044.000000-AlignedT1toPETBOX-18519/1-57.dcm', 'Soft-tissue-Sarcoma/STS_010/12-30-2003-NA-CT PET with registered MR-74609/48044.000000-AlignedT1toPETBOX-18519/1-43.dcm', 'Soft-tissue-Sarcoma/STS_010/12-30-2003-NA-CT PET with registered MR-74609/48044.000000-AlignedT1toPETBOX-18519/1-80.dcm', 'Soft-tissue-Sarcoma/STS_010/12-30-2003-NA-CT PET with registered MR-74609/48044.000000-AlignedT1toPETBOX-18519/1-82.dcm', 'Soft-tissue-Sarcoma/STS_010/12-30-2003-NA-CT PET with registered MR-74609/48044.000000-AlignedT1toPETBOX-18519/1-55.dcm', 'Soft-tissue-Sarcoma/STS_010/12-30-2003-NA-CT PET with registered MR-74609/48044.000000-AlignedT1toPETBOX-18519/1-41.dcm', 'Soft-tissue-Sarcoma/STS_010/12-30-2003-NA-CT PET with registered MR-74609/48044.000000-AlignedT1toPETBOX-18519/1-69.dcm']\n"
     ]
    }
   ],
   "source": [
    "print(DICOM_files[:10])"
   ]
  },
  {
   "cell_type": "markdown",
   "id": "926bd5b8-176f-49d4-9d1e-b26e48af42f3",
   "metadata": {},
   "source": [
    "### Create the dictionaries containing the dicom name and dicom tag from the pivot csv files  \n"
   ]
  },
  {
   "cell_type": "code",
   "execution_count": 4,
   "id": "e6647ccc",
   "metadata": {},
   "outputs": [],
   "source": [
    "dictTagStudy = {\n",
    "                \"Patient_Id\": [('0x0010', '0x0020')],\n",
    "                \"Study_StudyInstanceUID\": [('0x0020', '0x000d')],\n",
    "                \"Study_StudyDescription\": [('0x0008', '0x1030')],\n",
    "                \"Study_AcquisitionDate\": [('0x0008', '0x0022'), ('0x0008', '0x0032')],\n",
    "                \"Study_InstitutionName\": [('0x0008', '0x0080')],\n",
    "                \"Study_ModalitiesInStudy\": [('0x0008', '0x0061')],\n",
    "                \"Study_NbStudyRelatedSeries\": [('0x0020', '0x1206')],\n",
    "                }\n",
    "\n",
    "dictTagSeries = {\n",
    "                \"Patient_Id\": [('0x0010', '0x0020')],\n",
    "                \"Series_SeriesNumber\": [('0x0020', '0x0011')],\n",
    "                \"Series_SeriesInstanceUID\": [('0x0020', '0x000e')],\n",
    "                \"Series_Modality\": [('0x0008', '0x0060')],\n",
    "                \"Series_Description\": [('0x0008', '0x103e'), ('0x0008', '0x1030')],\n",
    "                \"Series_BodyPartExamined\": [('0x0018', '0x0015')],\n",
    "                \"Series_NbSeriesRelatedInstances\": [('0x0020', '0x1209')],\n",
    "                \"Series_SoftwareVersion\": [('0x0018', '0x1020')],\n",
    "                }\n",
    "\n",
    "\n",
    "dictTagEquipment = {\n",
    "                \"Patient_Id\": [('0x0010', '0x0020')],\n",
    "                \"Equipment_ModelName\": [('0x0008', '0x1090')],\n",
    "                \"Equipment_Manufacturer\": [('0x0008', '0x0070')],\n",
    "                   }\n",
    "\n",
    "dictTagInjection = {\n",
    "                \"Patient_Id\": [('0x0010', '0x0020')],\n",
    "                \"Injection_Radiopharmaceutical\": [('0x0018', '0x0031')],\n",
    "                \"Injection_ContrastBolusAgent\": [('0x0018', '0x0010')],\n",
    "                \"Injection_ContrastBolusStartTime\": [('0x0018', '0x1042')],\n",
    "                \"Injection_ContrastBolusStopTime\": [('0x0018', '0x1043')],\n",
    "                \"Injection_RadiopharmaceuticalStartTime\": [('0x0018', '0x1072')],\n",
    "                \"Injection_RadionuclideTotalDose\": [('0x0018', '0x1074')],\n",
    "                   }\n",
    "\n",
    "dictTagROISegmentation = {\n",
    "                \"Patient_Id\": [('0x0010', '0x0020')],\n",
    "                \"ROISegmentation_ReferencedSOPInstanceUID\": [('0x0008', '0x1150')],\n",
    "                \"ROISegmentation_ROINumber\": [('0x3006', '0x0084')],\n",
    "                \"ROISegmentation_ROIName\": [('0x3006', '0x0026')],\n",
    "                \"ROISegmentation_ROIDescription\": [('0x3006', '0x0028')],\n",
    "                \"ROISegmentation_ROIType\": [],\n",
    "                \"ROISegmentation_ROIFilename\": [],\n",
    "                         }\n",
    "\n",
    "dictTagCommonImage = {\n",
    "                \"Patient_Id\": [('0x0010', '0x0020')],\n",
    "                \"CommonImage_SOPInstanceUID\": [('0x0008', '0x0018')],\n",
    "                \"CommonImage_SliceThickness\": [('0x0018', '0x0050')],\n",
    "                \"CommonImage_PixelSpacing\": [('0x0028', '0x0030')],\n",
    "                \"CommonImage_FieldOfView\": [],\n",
    "                \"CommonImage_Rows\": [('0x0028', '0x0010')],\n",
    "                \"CommonImage_Columns\": [('0x0028', '0x0011')],\n",
    "                     }\n",
    "\n",
    "dictTagCTImage = {\n",
    "                \"Patient_Id\": [('0x0010', '0x0020')],\n",
    "                \"CTImage_KVp\": [('0x0018', '0x0060')],\n",
    "                \"CTImage_XRayTubeCurrent\": [('0x0018', '0x1151')],\n",
    "                \"CTImage_ExposureTime\": [('0x0018', '0x1150')],\n",
    "                \"CTImage_SpiralPitchFactor\": [('0x0018', '0x9311')],\n",
    "                \"CTImage_FilterType\": [('0x0018', '0x1160')],\n",
    "                \"CTImage_ConvolutionKernel\": [('0x0018', '0x1210')],\n",
    "                 }\n",
    "\n",
    "dictTagDXImage = {\n",
    "                \"Patient_Id\": [('0x0010', '0x0020')],\n",
    "                \"DXImage_ImageLaterality\": [('0x0020', '0x0062')],\n",
    "                \"DXImage_PatientOrientation\": [('0x0020', '0x0020')],\n",
    "                \"DXImage_AnatomicRegionSequenceCodeMeaning\": [('0x0008', '0x0104')],\n",
    "                \"DXImage_AnatomicRegionSequenceCodeValue\": [('0x0008', '0x0100')],\n",
    "                \"DXImage_KVP\": [('0x0008', '0x0060')],\n",
    "                \"DXImage_Exposure\": [('0x0018', '0x1152')],\n",
    "                \"DXImage_ExposureTime\": [('0x0018', '0x1150')],\n",
    "                \"DXImage_ContrastBolusAgent\": [('0x0018', '0x0010')],\n",
    "                 }\n",
    "\n",
    "dictTagMRImage = {\n",
    "                \"Patient_Id\": [('0x0010', '0x0020')],\n",
    "                \"MRImage_SequenceName\": [('0x0018', '0x0024')],\n",
    "                \"MRImage_MagneticFieldStrength\": [('0x0018', '0x0087')],\n",
    "                \"MRImage_MRAcquisitionType\": [('0x0018', '0x0023')],\n",
    "                \"MRImage_RepetitionTime\": [('0x0018', '0x0080')],\n",
    "                \"MRImage_EchoTime\": [('0x0018', '0x0081')],\n",
    "                \"MRImage_ImagingFrequency\": [('0x0018', '0x0084')],\n",
    "                \"MRImage_FlipAngle\": [('0x0018', '0x0024')],\n",
    "                \"MRImage_InversionTime\": [('0x0018', '0x0082')],\n",
    "                \"MRImage_ReceiveCoilName\": [('0x0018', '0x1250')],\n",
    "                 }\n",
    "\n",
    "dictTagNMImage = {\n",
    "                \"Patient_Id\": [('0x0010', '0x0020')],\n",
    "                \"NMImage_AttenuationCorrectionMethod\": [('0x0054', '0x1101')],\n",
    "                \"NMImage_ReconstructionMethod\": [('0x0054', '0x1103')],\n",
    "                \"NMImage_ScatterCorrectionMethod\": [('0x0054', '0x1105')],\n",
    "                 }\n",
    "\n",
    "dictTagPTImage = {\n",
    "                \"Patient_Id\": [('0x0010', '0x0020')],\n",
    "                \"PTImage_AttenuationCorrectionMethod\": [('0x0054', '0x1101')],\n",
    "                \"PTImage_ReconstructionMethod\": [('0x0054', '0x1103')],\n",
    "                \"PTImage_ScatterCorrectionMethod\": [('0x0054', '0x1105')],\n",
    "                 }\n",
    "\n",
    "\n",
    "\n"
   ]
  },
  {
   "cell_type": "markdown",
   "id": "fe112787",
   "metadata": {},
   "source": [
    "## Define some usefull class and functions\n",
    "The class Pivot represent a pivot csv file"
   ]
  },
  {
   "cell_type": "code",
   "execution_count": 5,
   "id": "15fb302c",
   "metadata": {},
   "outputs": [],
   "source": [
    "# Return the concatenation of all tag values from DICOM_file\n",
    "def get_tag_value(DICOM_file, tags):\n",
    "    value = \"\"\n",
    "    for tag in tags:\n",
    "        try:\n",
    "            value += \" \" + str(DICOM_file[tag[0], tag[1]].value)\n",
    "        except:\n",
    "            pass\n",
    "    return(value)\n",
    "\n",
    "class Pivot:\n",
    "    # Create a pivot element with:\n",
    "    #  - a dictionary containing all the entries (= aline in the .csv file). The key is self.key\n",
    "    #  - instanceId is an int = line of the .csv file\n",
    "    #  - key is the key of the self.dict\n",
    "    #  - dictTag is a dictionay containing the Header of the .csv files and the corresponding dicom tags\n",
    "    #  - columns is an array containing the header of the csv file and starts with Patient_Id and Instance_Id\n",
    "    def __init__(self, key, dictTag):\n",
    "        self.dict = {}\n",
    "        self.instanceId = 0\n",
    "        self.key = key\n",
    "        self.dictTag = dictTag\n",
    "        self.columns = [\"Patient_Id\", \"Instance_Id\"] + list(self.dictTag.keys())[1:]\n",
    "\n",
    "    # Return the list of element already present in the dict\n",
    "    def elements(self):\n",
    "        return(list(self.dict.keys()))\n",
    "    \n",
    "    # Fill the dict with the current DICOM_file (= add a line in the .csv file)\n",
    "    def fill(self, DICOM_file):\n",
    "        self.dict[DICOM_file[self.key].value] = {}\n",
    "        for el in list(self.dictTag.keys()):\n",
    "            self.dict[DICOM_file[self.key].value][el] = get_tag_value(DICOM_file, self.dictTag[el])\n",
    "        self.dict[DICOM_file[self.key].value][\"Instance_Id\"] = self.instanceId\n",
    "        self.instanceId += 1\n",
    "\n",
    "    # Add reference from another pivot and add the entry after Patient_Id and Instance_Id in the header if not present\n",
    "    def addRef(self, DICOM_file, name, pivot):\n",
    "        self.dict[DICOM_file[self.key].value][name] = pivot.dict[DICOM_file[pivot.key].value][\"Instance_Id\"]\n",
    "        if name not in self.columns:\n",
    "            self.columns = self.columns[0:2] + [name] + self.columns[2:]\n",
    "    \n",
    "    # Write the pivot as .csv\n",
    "    def write(self, output):\n",
    "        with open(output, 'w') as csvfile:\n",
    "            writer = csv.DictWriter(csvfile, fieldnames=self.columns)\n",
    "            writer.writeheader()\n",
    "            for el in self.dict.keys():\n",
    "                writer.writerow(self.dict[el])\n",
    "    "
   ]
  },
  {
   "cell_type": "markdown",
   "id": "43699061",
   "metadata": {},
   "source": [
    "## Initialize the pivots"
   ]
  },
  {
   "cell_type": "code",
   "execution_count": 6,
   "id": "dff84793",
   "metadata": {},
   "outputs": [],
   "source": [
    "pivotStudy = Pivot(('0x0020', '0x000d'), dictTagStudy)\n",
    "pivotSeries = Pivot(('0x0020', '0x000e'), dictTagSeries)\n",
    "pivotEquipment = Pivot(('0x0020', '0x000e'), dictTagEquipment)\n",
    "pivotInjection = Pivot(('0x0020', '0x000e'), dictTagInjection)\n",
    "pivotROISegmentation = Pivot(('0x0008', '0x0018'), dictTagROISegmentation)\n",
    "pivotCommonImage = Pivot(('0x0008', '0x0018'), dictTagCommonImage)\n",
    "pivotCTImage = Pivot(('0x0008', '0x0018'), dictTagCTImage)\n",
    "pivotDXImage = Pivot(('0x0008', '0x0018'), dictTagDXImage)\n",
    "pivotMRImage = Pivot(('0x0008', '0x0018'), dictTagMRImage)\n",
    "pivotNMImage = Pivot(('0x0008', '0x0018'), dictTagNMImage)\n",
    "pivotPTImage = Pivot(('0x0008', '0x0018'), dictTagPTImage)"
   ]
  },
  {
   "cell_type": "markdown",
   "id": "8673c41d",
   "metadata": {},
   "source": [
    "## Fill the pivots\n",
    "Read all dicoms files and add to the pivots if necessary"
   ]
  },
  {
   "cell_type": "code",
   "execution_count": 7,
   "id": "d9eea858",
   "metadata": {},
   "outputs": [
    {
     "data": {
      "application/vnd.jupyter.widget-view+json": {
       "model_id": "7edc40f882f147128294c4fd1b95614b",
       "version_major": 2,
       "version_minor": 0
      },
      "text/plain": [
       "  0%|          | 0/38283 [00:00<?, ?it/s]"
      ]
     },
     "metadata": {},
     "output_type": "display_data"
    }
   ],
   "source": [
    "for dicom in tqdm(DICOM_files):\n",
    "    #Read the dicom file\n",
    "    DICOM_file = dcmread(dicom)\n",
    "\n",
    "    #If the SOP Study UID is not present, I create the entry inside the pivot\n",
    "    if DICOM_file[('0x0020', '0x000d')].value not in pivotStudy.elements():\n",
    "        pivotStudy.fill(DICOM_file)\n",
    "        pivotStudy.dict[DICOM_file[('0x0020', '0x000d')].value][\"Study_Location\"] = []\n",
    "    pivotStudy.dict[DICOM_file[('0x0020', '0x000d')].value][\"Study_Location\"].append(dicom)\n",
    "    \n",
    "    #If the SOP Series UID is not present, I create the entry inside the pivots\n",
    "    if DICOM_file[('0x0020', '0x000e')].value not in pivotSeries.elements():\n",
    "        pivotSeries.fill(DICOM_file)\n",
    "        pivotSeries.addRef(DICOM_file, \"Study_Ref\", pivotStudy)\n",
    "        \n",
    "        pivotEquipment.fill(DICOM_file)\n",
    "        pivotEquipment.addRef(DICOM_file, \"Series_Ref\", pivotSeries)\n",
    "        \n",
    "        pivotInjection.fill(DICOM_file)\n",
    "        pivotInjection.addRef(DICOM_file, \"Series_Ref\", pivotSeries)\n",
    "\n",
    "    #For all dicom files, add the element to common image pivot or ROI segmentation pivot\n",
    "    if DICOM_file[('0x0008', '0x0060')].value in [\"CT\", \"MR\", \"PT\", \"DX\", \"NM\"]:\n",
    "        pivotCommonImage.fill(DICOM_file)\n",
    "        pivotCommonImage.addRef(DICOM_file, \"Series_Ref\", pivotSeries)\n",
    "        \n",
    "        if DICOM_file[('0x0008', '0x0060')].value == \"CT\":\n",
    "            pivotCTImage.fill(DICOM_file)\n",
    "            pivotCTImage.addRef(DICOM_file, \"CommonImage_Ref\", pivotCommonImage)\n",
    "        \n",
    "        elif DICOM_file[('0x0008', '0x0060')].value == \"DX\":\n",
    "            pivotDXImage.fill(DICOM_file)\n",
    "            pivotDXImage.addRef(DICOM_file, \"CommonImage_Ref\", pivotCommonImage)\n",
    "        \n",
    "        elif DICOM_file[('0x0008', '0x0060')].value == \"MR\":\n",
    "            pivotMRImage.fill(DICOM_file)\n",
    "            pivotMRImage.addRef(DICOM_file, \"CommonImage_Ref\", pivotCommonImage)\n",
    "        \n",
    "        elif DICOM_file[('0x0008', '0x0060')].value == \"NM\":\n",
    "            pivotNMImage.fill(DICOM_file)\n",
    "            pivotNMImage.addRef(DICOM_file, \"CommonImage_Ref\", pivotCommonImage)\n",
    "        \n",
    "        elif DICOM_file[('0x0008', '0x0060')].value == \"PT\":\n",
    "            pivotPTImage.fill(DICOM_file)\n",
    "            pivotPTImage.addRef(DICOM_file, \"CommonImage_Ref\", pivotCommonImage)\n",
    "            \n",
    "    elif DICOM_file[('0x0008', '0x0060')].value == \"RTSTRUCT\":\n",
    "        pivotROISegmentation.fill(DICOM_file)\n",
    "        pivotROISegmentation.addRef(DICOM_file, \"Series_Ref\", pivotSeries)\n",
    "        "
   ]
  },
  {
   "cell_type": "markdown",
   "id": "e365585f",
   "metadata": {},
   "source": [
    "## Write the pivot as csv files\n",
    "For pivotStudy, I need to add the Study_Location to the columns"
   ]
  },
  {
   "cell_type": "code",
   "execution_count": 8,
   "id": "f7280892",
   "metadata": {},
   "outputs": [],
   "source": [
    "pivotStudy.columns = pivotStudy.columns[0:6] + [\"Study_Location\"] + pivotStudy.columns[6:]\n",
    "\n",
    "pivotStudy.write(\"OSIRIS_pivot_Study.csv\")\n",
    "pivotSeries.write(\"OSIRIS_pivot_Series.csv\")\n",
    "pivotEquipment.write(\"OSIRIS_pivot_Equipment.csv\")\n",
    "pivotInjection.write(\"OSIRIS_pivot_Injection.csv\")\n",
    "pivotROISegmentation.write(\"OSIRIS_pivot_ROISegmentation.csv\")\n",
    "pivotCommonImage.write(\"OSIRIS_pivot_CommonImage.csv\")\n",
    "pivotCTImage.write(\"OSIRIS_pivot_CTImage.csv\")\n",
    "pivotDXImage.write(\"OSIRIS_pivot_DXImage.csv\")\n",
    "pivotMRImage.write(\"OSIRIS_pivot_MRImage.csv\")\n",
    "pivotNMImage.write(\"OSIRIS_pivot_NMImage.csv\")\n",
    "pivotPTImage.write(\"OSIRIS_pivot_PTImage.csv\")"
   ]
  },
  {
   "cell_type": "code",
   "execution_count": null,
   "id": "ccf658df",
   "metadata": {},
   "outputs": [],
   "source": []
  }
 ],
 "metadata": {
  "kernelspec": {
   "display_name": "Python 3 (ipykernel)",
   "language": "python",
   "name": "python3"
  },
  "language_info": {
   "codemirror_mode": {
    "name": "ipython",
    "version": 3
   },
   "file_extension": ".py",
   "mimetype": "text/x-python",
   "name": "python",
   "nbconvert_exporter": "python",
   "pygments_lexer": "ipython3",
   "version": "3.9.5"
  }
 },
 "nbformat": 4,
 "nbformat_minor": 5
}
